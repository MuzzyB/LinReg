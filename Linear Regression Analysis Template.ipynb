{
 "cells": [
  {
   "cell_type": "code",
   "execution_count": 1,
   "metadata": {},
   "outputs": [],
   "source": [
    "#title: \"Linear Regression Analysis Template\"\n",
    "#author: \"Muuzaani Nkhoma\"\n",
    "#date: \"February 13, 2020\"\n",
    "\n",
    "\n",
    "#References: https://numpy.org/\n",
    "#            https://pandas.pydata.org/pandas-docs/stable/\n",
    "#            https://scikit-learn.org/stable/modules/classes.html\n",
    "#            https://www.statsmodels.org/stable/index.html\n",
    "#            https://seaborn.pydata.org/\n",
    "#            https://matplotlib.org/"
   ]
  },
  {
   "cell_type": "code",
   "execution_count": 2,
   "metadata": {},
   "outputs": [],
   "source": [
    "### Load Packages\n",
    "import numpy as np\n",
    "import pandas as pd\n",
    "import sklearn                           # for statistical modeling\n",
    "import statsmodels.api as sm             # for advanced statistical modeling\n",
    "import statsmodels.formula.api as smf\n",
    "import seaborn as sns                    # Seaborn visualization library\n",
    "from matplotlib import pyplot as plt\n"
   ]
  },
  {
   "cell_type": "code",
   "execution_count": 3,
   "metadata": {},
   "outputs": [
    {
     "data": {
      "text/plain": [
       "(40, 7)"
      ]
     },
     "execution_count": 3,
     "metadata": {},
     "output_type": "execute_result"
    }
   ],
   "source": [
    "## Read and prepare the data\n",
    "# Read data from file 'filename.csv' \n",
    "jet = pd.read_csv(\"Data Linear Models\\data-table-B13.csv\") \n",
    "jet.shape"
   ]
  },
  {
   "cell_type": "code",
   "execution_count": 4,
   "metadata": {},
   "outputs": [
    {
     "data": {
      "text/plain": [
       "y     0\n",
       "x1    0\n",
       "x2    0\n",
       "x3    0\n",
       "x4    0\n",
       "x5    0\n",
       "x6    0\n",
       "dtype: int64"
      ]
     },
     "execution_count": 4,
     "metadata": {},
     "output_type": "execute_result"
    }
   ],
   "source": [
    "jet.isnull().sum()"
   ]
  },
  {
   "cell_type": "code",
   "execution_count": 5,
   "metadata": {},
   "outputs": [
    {
     "data": {
      "text/html": [
       "<div>\n",
       "<style scoped>\n",
       "    .dataframe tbody tr th:only-of-type {\n",
       "        vertical-align: middle;\n",
       "    }\n",
       "\n",
       "    .dataframe tbody tr th {\n",
       "        vertical-align: top;\n",
       "    }\n",
       "\n",
       "    .dataframe thead th {\n",
       "        text-align: right;\n",
       "    }\n",
       "</style>\n",
       "<table border=\"1\" class=\"dataframe\">\n",
       "  <thead>\n",
       "    <tr style=\"text-align: right;\">\n",
       "      <th></th>\n",
       "      <th>y</th>\n",
       "      <th>x1</th>\n",
       "      <th>x2</th>\n",
       "      <th>x3</th>\n",
       "      <th>x4</th>\n",
       "      <th>x5</th>\n",
       "      <th>x6</th>\n",
       "    </tr>\n",
       "  </thead>\n",
       "  <tbody>\n",
       "    <tr>\n",
       "      <th>0</th>\n",
       "      <td>4540</td>\n",
       "      <td>2140</td>\n",
       "      <td>20640</td>\n",
       "      <td>30250</td>\n",
       "      <td>205</td>\n",
       "      <td>1732</td>\n",
       "      <td>99</td>\n",
       "    </tr>\n",
       "    <tr>\n",
       "      <th>1</th>\n",
       "      <td>4315</td>\n",
       "      <td>2016</td>\n",
       "      <td>20280</td>\n",
       "      <td>30010</td>\n",
       "      <td>195</td>\n",
       "      <td>1697</td>\n",
       "      <td>100</td>\n",
       "    </tr>\n",
       "    <tr>\n",
       "      <th>2</th>\n",
       "      <td>4095</td>\n",
       "      <td>1905</td>\n",
       "      <td>19860</td>\n",
       "      <td>29780</td>\n",
       "      <td>184</td>\n",
       "      <td>1662</td>\n",
       "      <td>97</td>\n",
       "    </tr>\n",
       "    <tr>\n",
       "      <th>3</th>\n",
       "      <td>3650</td>\n",
       "      <td>1675</td>\n",
       "      <td>18980</td>\n",
       "      <td>29330</td>\n",
       "      <td>164</td>\n",
       "      <td>1598</td>\n",
       "      <td>97</td>\n",
       "    </tr>\n",
       "    <tr>\n",
       "      <th>4</th>\n",
       "      <td>3200</td>\n",
       "      <td>1474</td>\n",
       "      <td>18100</td>\n",
       "      <td>28960</td>\n",
       "      <td>144</td>\n",
       "      <td>1541</td>\n",
       "      <td>97</td>\n",
       "    </tr>\n",
       "  </tbody>\n",
       "</table>\n",
       "</div>"
      ],
      "text/plain": [
       "      y    x1     x2     x3   x4    x5   x6\n",
       "0  4540  2140  20640  30250  205  1732   99\n",
       "1  4315  2016  20280  30010  195  1697  100\n",
       "2  4095  1905  19860  29780  184  1662   97\n",
       "3  3650  1675  18980  29330  164  1598   97\n",
       "4  3200  1474  18100  28960  144  1541   97"
      ]
     },
     "execution_count": 5,
     "metadata": {},
     "output_type": "execute_result"
    }
   ],
   "source": [
    "##View first observations\n",
    "jet.head()"
   ]
  },
  {
   "cell_type": "code",
   "execution_count": 6,
   "metadata": {},
   "outputs": [
    {
     "data": {
      "text/html": [
       "<div>\n",
       "<style scoped>\n",
       "    .dataframe tbody tr th:only-of-type {\n",
       "        vertical-align: middle;\n",
       "    }\n",
       "\n",
       "    .dataframe tbody tr th {\n",
       "        vertical-align: top;\n",
       "    }\n",
       "\n",
       "    .dataframe thead th {\n",
       "        text-align: right;\n",
       "    }\n",
       "</style>\n",
       "<table border=\"1\" class=\"dataframe\">\n",
       "  <thead>\n",
       "    <tr style=\"text-align: right;\">\n",
       "      <th></th>\n",
       "      <th>y</th>\n",
       "      <th>x1</th>\n",
       "      <th>x2</th>\n",
       "      <th>x3</th>\n",
       "      <th>x4</th>\n",
       "      <th>x5</th>\n",
       "      <th>x6</th>\n",
       "    </tr>\n",
       "  </thead>\n",
       "  <tbody>\n",
       "    <tr>\n",
       "      <th>35</th>\n",
       "      <td>4402</td>\n",
       "      <td>2066</td>\n",
       "      <td>20520</td>\n",
       "      <td>30170</td>\n",
       "      <td>197</td>\n",
       "      <td>1758</td>\n",
       "      <td>100</td>\n",
       "    </tr>\n",
       "    <tr>\n",
       "      <th>36</th>\n",
       "      <td>4180</td>\n",
       "      <td>1954</td>\n",
       "      <td>20150</td>\n",
       "      <td>29950</td>\n",
       "      <td>188</td>\n",
       "      <td>1729</td>\n",
       "      <td>99</td>\n",
       "    </tr>\n",
       "    <tr>\n",
       "      <th>37</th>\n",
       "      <td>3973</td>\n",
       "      <td>1835</td>\n",
       "      <td>19750</td>\n",
       "      <td>29740</td>\n",
       "      <td>178</td>\n",
       "      <td>1690</td>\n",
       "      <td>99</td>\n",
       "    </tr>\n",
       "    <tr>\n",
       "      <th>38</th>\n",
       "      <td>3530</td>\n",
       "      <td>1616</td>\n",
       "      <td>18850</td>\n",
       "      <td>29320</td>\n",
       "      <td>156</td>\n",
       "      <td>1616</td>\n",
       "      <td>99</td>\n",
       "    </tr>\n",
       "    <tr>\n",
       "      <th>39</th>\n",
       "      <td>3080</td>\n",
       "      <td>1407</td>\n",
       "      <td>17910</td>\n",
       "      <td>28910</td>\n",
       "      <td>137</td>\n",
       "      <td>1569</td>\n",
       "      <td>100</td>\n",
       "    </tr>\n",
       "  </tbody>\n",
       "</table>\n",
       "</div>"
      ],
      "text/plain": [
       "       y    x1     x2     x3   x4    x5   x6\n",
       "35  4402  2066  20520  30170  197  1758  100\n",
       "36  4180  1954  20150  29950  188  1729   99\n",
       "37  3973  1835  19750  29740  178  1690   99\n",
       "38  3530  1616  18850  29320  156  1616   99\n",
       "39  3080  1407  17910  28910  137  1569  100"
      ]
     },
     "execution_count": 6,
     "metadata": {},
     "output_type": "execute_result"
    }
   ],
   "source": [
    "#### View last observations\n",
    "jet.tail()"
   ]
  },
  {
   "cell_type": "code",
   "execution_count": 7,
   "metadata": {},
   "outputs": [
    {
     "data": {
      "text/html": [
       "<div>\n",
       "<style scoped>\n",
       "    .dataframe tbody tr th:only-of-type {\n",
       "        vertical-align: middle;\n",
       "    }\n",
       "\n",
       "    .dataframe tbody tr th {\n",
       "        vertical-align: top;\n",
       "    }\n",
       "\n",
       "    .dataframe thead th {\n",
       "        text-align: right;\n",
       "    }\n",
       "</style>\n",
       "<table border=\"1\" class=\"dataframe\">\n",
       "  <thead>\n",
       "    <tr style=\"text-align: right;\">\n",
       "      <th></th>\n",
       "      <th>y</th>\n",
       "      <th>x1</th>\n",
       "      <th>x2</th>\n",
       "      <th>x3</th>\n",
       "      <th>x4</th>\n",
       "      <th>x5</th>\n",
       "      <th>x6</th>\n",
       "    </tr>\n",
       "  </thead>\n",
       "  <tbody>\n",
       "    <tr>\n",
       "      <th>count</th>\n",
       "      <td>40.000000</td>\n",
       "      <td>40.000000</td>\n",
       "      <td>40.000000</td>\n",
       "      <td>40.00000</td>\n",
       "      <td>40.000000</td>\n",
       "      <td>40.000000</td>\n",
       "      <td>40.000000</td>\n",
       "    </tr>\n",
       "    <tr>\n",
       "      <th>mean</th>\n",
       "      <td>3904.000000</td>\n",
       "      <td>1809.925000</td>\n",
       "      <td>19494.600000</td>\n",
       "      <td>29605.77500</td>\n",
       "      <td>174.500000</td>\n",
       "      <td>1651.900000</td>\n",
       "      <td>97.425000</td>\n",
       "    </tr>\n",
       "    <tr>\n",
       "      <th>std</th>\n",
       "      <td>504.646004</td>\n",
       "      <td>251.950482</td>\n",
       "      <td>940.944419</td>\n",
       "      <td>466.21776</td>\n",
       "      <td>23.436767</td>\n",
       "      <td>68.895983</td>\n",
       "      <td>4.717059</td>\n",
       "    </tr>\n",
       "    <tr>\n",
       "      <th>min</th>\n",
       "      <td>3045.000000</td>\n",
       "      <td>1388.000000</td>\n",
       "      <td>17780.000000</td>\n",
       "      <td>28675.00000</td>\n",
       "      <td>133.000000</td>\n",
       "      <td>1522.000000</td>\n",
       "      <td>85.000000</td>\n",
       "    </tr>\n",
       "    <tr>\n",
       "      <th>25%</th>\n",
       "      <td>3517.500000</td>\n",
       "      <td>1607.750000</td>\n",
       "      <td>18880.000000</td>\n",
       "      <td>29302.50000</td>\n",
       "      <td>155.250000</td>\n",
       "      <td>1592.500000</td>\n",
       "      <td>97.000000</td>\n",
       "    </tr>\n",
       "    <tr>\n",
       "      <th>50%</th>\n",
       "      <td>3977.000000</td>\n",
       "      <td>1849.500000</td>\n",
       "      <td>19765.000000</td>\n",
       "      <td>29745.00000</td>\n",
       "      <td>179.000000</td>\n",
       "      <td>1668.000000</td>\n",
       "      <td>99.000000</td>\n",
       "    </tr>\n",
       "    <tr>\n",
       "      <th>75%</th>\n",
       "      <td>4332.500000</td>\n",
       "      <td>2023.750000</td>\n",
       "      <td>20286.250000</td>\n",
       "      <td>29960.00000</td>\n",
       "      <td>193.500000</td>\n",
       "      <td>1709.500000</td>\n",
       "      <td>100.000000</td>\n",
       "    </tr>\n",
       "    <tr>\n",
       "      <th>max</th>\n",
       "      <td>4833.000000</td>\n",
       "      <td>2239.000000</td>\n",
       "      <td>20740.000000</td>\n",
       "      <td>30250.00000</td>\n",
       "      <td>216.000000</td>\n",
       "      <td>1758.000000</td>\n",
       "      <td>102.000000</td>\n",
       "    </tr>\n",
       "  </tbody>\n",
       "</table>\n",
       "</div>"
      ],
      "text/plain": [
       "                 y           x1            x2           x3          x4  \\\n",
       "count    40.000000    40.000000     40.000000     40.00000   40.000000   \n",
       "mean   3904.000000  1809.925000  19494.600000  29605.77500  174.500000   \n",
       "std     504.646004   251.950482    940.944419    466.21776   23.436767   \n",
       "min    3045.000000  1388.000000  17780.000000  28675.00000  133.000000   \n",
       "25%    3517.500000  1607.750000  18880.000000  29302.50000  155.250000   \n",
       "50%    3977.000000  1849.500000  19765.000000  29745.00000  179.000000   \n",
       "75%    4332.500000  2023.750000  20286.250000  29960.00000  193.500000   \n",
       "max    4833.000000  2239.000000  20740.000000  30250.00000  216.000000   \n",
       "\n",
       "                x5          x6  \n",
       "count    40.000000   40.000000  \n",
       "mean   1651.900000   97.425000  \n",
       "std      68.895983    4.717059  \n",
       "min    1522.000000   85.000000  \n",
       "25%    1592.500000   97.000000  \n",
       "50%    1668.000000   99.000000  \n",
       "75%    1709.500000  100.000000  \n",
       "max    1758.000000  102.000000  "
      ]
     },
     "execution_count": 7,
     "metadata": {},
     "output_type": "execute_result"
    }
   ],
   "source": [
    "#### Summary Statistics\n",
    "jet.describe()"
   ]
  },
  {
   "cell_type": "code",
   "execution_count": 8,
   "metadata": {},
   "outputs": [
    {
     "data": {
      "text/plain": [
       "<seaborn.axisgrid.PairGrid at 0x1e653984ac8>"
      ]
     },
     "execution_count": 8,
     "metadata": {},
     "output_type": "execute_result"
    },
    {
     "data": {
      "image/png": "[encoded data removed]",
      "text/plain": [
       "<Figure size 1260x1260 with 56 Axes>"
      ]
     },
     "metadata": {
      "needs_background": "light"
     },
     "output_type": "display_data"
    }
   ],
   "source": [
    "### # Plot Scatterplots to investigate the linear relationship between response and # regressor variables\n",
    "# Create the default pairplot\n",
    "sns.pairplot(jet)"
   ]
  },
  {
   "cell_type": "code",
   "execution_count": 9,
   "metadata": {},
   "outputs": [
    {
     "data": {
      "text/html": [
       "<div>\n",
       "<style scoped>\n",
       "    .dataframe tbody tr th:only-of-type {\n",
       "        vertical-align: middle;\n",
       "    }\n",
       "\n",
       "    .dataframe tbody tr th {\n",
       "        vertical-align: top;\n",
       "    }\n",
       "\n",
       "    .dataframe thead th {\n",
       "        text-align: right;\n",
       "    }\n",
       "</style>\n",
       "<table border=\"1\" class=\"dataframe\">\n",
       "  <thead>\n",
       "    <tr style=\"text-align: right;\">\n",
       "      <th></th>\n",
       "      <th>y</th>\n",
       "      <th>x1</th>\n",
       "      <th>x2</th>\n",
       "      <th>x3</th>\n",
       "      <th>x4</th>\n",
       "      <th>x5</th>\n",
       "      <th>x6</th>\n",
       "    </tr>\n",
       "  </thead>\n",
       "  <tbody>\n",
       "    <tr>\n",
       "      <th>y</th>\n",
       "      <td>1.000000</td>\n",
       "      <td>0.995010</td>\n",
       "      <td>0.976048</td>\n",
       "      <td>0.928792</td>\n",
       "      <td>0.995112</td>\n",
       "      <td>0.871693</td>\n",
       "      <td>-0.147441</td>\n",
       "    </tr>\n",
       "    <tr>\n",
       "      <th>x1</th>\n",
       "      <td>0.995010</td>\n",
       "      <td>1.000000</td>\n",
       "      <td>0.985178</td>\n",
       "      <td>0.950396</td>\n",
       "      <td>0.993965</td>\n",
       "      <td>0.894030</td>\n",
       "      <td>-0.072745</td>\n",
       "    </tr>\n",
       "    <tr>\n",
       "      <th>x2</th>\n",
       "      <td>0.976048</td>\n",
       "      <td>0.985178</td>\n",
       "      <td>1.000000</td>\n",
       "      <td>0.972304</td>\n",
       "      <td>0.971859</td>\n",
       "      <td>0.926747</td>\n",
       "      <td>0.017133</td>\n",
       "    </tr>\n",
       "    <tr>\n",
       "      <th>x3</th>\n",
       "      <td>0.928792</td>\n",
       "      <td>0.950396</td>\n",
       "      <td>0.972304</td>\n",
       "      <td>1.000000</td>\n",
       "      <td>0.920314</td>\n",
       "      <td>0.975750</td>\n",
       "      <td>0.216466</td>\n",
       "    </tr>\n",
       "    <tr>\n",
       "      <th>x4</th>\n",
       "      <td>0.995112</td>\n",
       "      <td>0.993965</td>\n",
       "      <td>0.971859</td>\n",
       "      <td>0.920314</td>\n",
       "      <td>1.000000</td>\n",
       "      <td>0.851901</td>\n",
       "      <td>-0.153425</td>\n",
       "    </tr>\n",
       "    <tr>\n",
       "      <th>x5</th>\n",
       "      <td>0.871693</td>\n",
       "      <td>0.894030</td>\n",
       "      <td>0.926747</td>\n",
       "      <td>0.975750</td>\n",
       "      <td>0.851901</td>\n",
       "      <td>1.000000</td>\n",
       "      <td>0.301764</td>\n",
       "    </tr>\n",
       "    <tr>\n",
       "      <th>x6</th>\n",
       "      <td>-0.147441</td>\n",
       "      <td>-0.072745</td>\n",
       "      <td>0.017133</td>\n",
       "      <td>0.216466</td>\n",
       "      <td>-0.153425</td>\n",
       "      <td>0.301764</td>\n",
       "      <td>1.000000</td>\n",
       "    </tr>\n",
       "  </tbody>\n",
       "</table>\n",
       "</div>"
      ],
      "text/plain": [
       "           y        x1        x2        x3        x4        x5        x6\n",
       "y   1.000000  0.995010  0.976048  0.928792  0.995112  0.871693 -0.147441\n",
       "x1  0.995010  1.000000  0.985178  0.950396  0.993965  0.894030 -0.072745\n",
       "x2  0.976048  0.985178  1.000000  0.972304  0.971859  0.926747  0.017133\n",
       "x3  0.928792  0.950396  0.972304  1.000000  0.920314  0.975750  0.216466\n",
       "x4  0.995112  0.993965  0.971859  0.920314  1.000000  0.851901 -0.153425\n",
       "x5  0.871693  0.894030  0.926747  0.975750  0.851901  1.000000  0.301764\n",
       "x6 -0.147441 -0.072745  0.017133  0.216466 -0.153425  0.301764  1.000000"
      ]
     },
     "execution_count": 9,
     "metadata": {},
     "output_type": "execute_result"
    }
   ],
   "source": [
    "# Test for correlation to get the values of the correlation between response and \n",
    "# regressor variables\n",
    "jet.corr()"
   ]
  },
  {
   "cell_type": "code",
   "execution_count": 10,
   "metadata": {},
   "outputs": [
    {
     "data": {
      "text/plain": [
       "(40, 6)"
      ]
     },
     "execution_count": 10,
     "metadata": {},
     "output_type": "execute_result"
    }
   ],
   "source": [
    "#  Create new dataframes\n",
    "X = jet[['x1', 'x2', 'x3', 'x4', 'x5', 'x6']]   # Creates independent variables dataframe\n",
    "X.shape"
   ]
  },
  {
   "cell_type": "code",
   "execution_count": 11,
   "metadata": {},
   "outputs": [
    {
     "data": {
      "text/plain": [
       "(40, 1)"
      ]
     },
     "execution_count": 11,
     "metadata": {},
     "output_type": "execute_result"
    }
   ],
   "source": [
    "Y = jet[['y']]   # Creates dependent variable(s) dataframe\n",
    "Y.shape"
   ]
  },
  {
   "cell_type": "code",
   "execution_count": 12,
   "metadata": {},
   "outputs": [],
   "source": [
    "###Fit the Full model with all regressor variables\n",
    "#X = sm.add_constant(X)\n",
    "#jet_model = sm.OLS(Y, X)\n",
    "jet_model = smf.ols('y ~ x1 + x2 + x3 + x4 + x5 + x6', data=jet).fit()"
   ]
  },
  {
   "cell_type": "code",
   "execution_count": 13,
   "metadata": {},
   "outputs": [],
   "source": [
    "#Fit Predicted and Residual Values\n",
    "pred_val = jet_model.fittedvalues.copy()\n",
    "true_val = jet['y'].values.copy()\n",
    "residual = true_val - pred_val"
   ]
  },
  {
   "cell_type": "code",
   "execution_count": 14,
   "metadata": {},
   "outputs": [
    {
     "data": {
      "text/html": [
       "<table class=\"simpletable\">\n",
       "<caption>OLS Regression Results</caption>\n",
       "<tr>\n",
       "  <th>Dep. Variable:</th>            <td>y</td>        <th>  R-squared:         </th> <td>   0.998</td>\n",
       "</tr>\n",
       "<tr>\n",
       "  <th>Model:</th>                   <td>OLS</td>       <th>  Adj. R-squared:    </th> <td>   0.997</td>\n",
       "</tr>\n",
       "<tr>\n",
       "  <th>Method:</th>             <td>Least Squares</td>  <th>  F-statistic:       </th> <td>   2350.</td>\n",
       "</tr>\n",
       "<tr>\n",
       "  <th>Date:</th>             <td>Sun, 16 Feb 2020</td> <th>  Prob (F-statistic):</th> <td>6.07e-42</td>\n",
       "</tr>\n",
       "<tr>\n",
       "  <th>Time:</th>                 <td>13:55:09</td>     <th>  Log-Likelihood:    </th> <td> -184.01</td>\n",
       "</tr>\n",
       "<tr>\n",
       "  <th>No. Observations:</th>      <td>    40</td>      <th>  AIC:               </th> <td>   382.0</td>\n",
       "</tr>\n",
       "<tr>\n",
       "  <th>Df Residuals:</th>          <td>    33</td>      <th>  BIC:               </th> <td>   393.8</td>\n",
       "</tr>\n",
       "<tr>\n",
       "  <th>Df Model:</th>              <td>     6</td>      <th>                     </th>     <td> </td>   \n",
       "</tr>\n",
       "<tr>\n",
       "  <th>Covariance Type:</th>      <td>nonrobust</td>    <th>                     </th>     <td> </td>   \n",
       "</tr>\n",
       "</table>\n",
       "<table class=\"simpletable\">\n",
       "<tr>\n",
       "      <td></td>         <th>coef</th>     <th>std err</th>      <th>t</th>      <th>P>|t|</th>  <th>[0.025</th>    <th>0.975]</th>  \n",
       "</tr>\n",
       "<tr>\n",
       "  <th>Intercept</th> <td>-4738.0149</td> <td> 2444.740</td> <td>   -1.938</td> <td> 0.061</td> <td>-9711.877</td> <td>  235.847</td>\n",
       "</tr>\n",
       "<tr>\n",
       "  <th>x1</th>        <td>    1.1185</td> <td>    0.286</td> <td>    3.904</td> <td> 0.000</td> <td>    0.536</td> <td>    1.701</td>\n",
       "</tr>\n",
       "<tr>\n",
       "  <th>x2</th>        <td>   -0.0302</td> <td>    0.038</td> <td>   -0.789</td> <td> 0.435</td> <td>   -0.108</td> <td>    0.048</td>\n",
       "</tr>\n",
       "<tr>\n",
       "  <th>x3</th>        <td>    0.2306</td> <td>    0.118</td> <td>    1.954</td> <td> 0.059</td> <td>   -0.010</td> <td>    0.471</td>\n",
       "</tr>\n",
       "<tr>\n",
       "  <th>x4</th>        <td>    3.8495</td> <td>    2.686</td> <td>    1.433</td> <td> 0.161</td> <td>   -1.616</td> <td>    9.315</td>\n",
       "</tr>\n",
       "<tr>\n",
       "  <th>x5</th>        <td>    0.8219</td> <td>    0.351</td> <td>    2.343</td> <td> 0.025</td> <td>    0.108</td> <td>    1.535</td>\n",
       "</tr>\n",
       "<tr>\n",
       "  <th>x6</th>        <td>  -16.9465</td> <td>    2.620</td> <td>   -6.468</td> <td> 0.000</td> <td>  -22.277</td> <td>  -11.616</td>\n",
       "</tr>\n",
       "</table>\n",
       "<table class=\"simpletable\">\n",
       "<tr>\n",
       "  <th>Omnibus:</th>       <td> 0.842</td> <th>  Durbin-Watson:     </th> <td>   1.202</td>\n",
       "</tr>\n",
       "<tr>\n",
       "  <th>Prob(Omnibus):</th> <td> 0.656</td> <th>  Jarque-Bera (JB):  </th> <td>   0.855</td>\n",
       "</tr>\n",
       "<tr>\n",
       "  <th>Skew:</th>          <td> 0.174</td> <th>  Prob(JB):          </th> <td>   0.652</td>\n",
       "</tr>\n",
       "<tr>\n",
       "  <th>Kurtosis:</th>      <td> 2.374</td> <th>  Cond. No.          </th> <td>2.07e+07</td>\n",
       "</tr>\n",
       "</table><br/><br/>Warnings:<br/>[1] Standard Errors assume that the covariance matrix of the errors is correctly specified.<br/>[2] The condition number is large, 2.07e+07. This might indicate that there are<br/>strong multicollinearity or other numerical problems."
      ],
      "text/plain": [
       "<class 'statsmodels.iolib.summary.Summary'>\n",
       "\"\"\"\n",
       "                            OLS Regression Results                            \n",
       "==============================================================================\n",
       "Dep. Variable:                      y   R-squared:                       0.998\n",
       "Model:                            OLS   Adj. R-squared:                  0.997\n",
       "Method:                 Least Squares   F-statistic:                     2350.\n",
       "Date:                Sun, 16 Feb 2020   Prob (F-statistic):           6.07e-42\n",
       "Time:                        13:55:09   Log-Likelihood:                -184.01\n",
       "No. Observations:                  40   AIC:                             382.0\n",
       "Df Residuals:                      33   BIC:                             393.8\n",
       "Df Model:                           6                                         \n",
       "Covariance Type:            nonrobust                                         \n",
       "==============================================================================\n",
       "                 coef    std err          t      P>|t|      [0.025      0.975]\n",
       "------------------------------------------------------------------------------\n",
       "Intercept  -4738.0149   2444.740     -1.938      0.061   -9711.877     235.847\n",
       "x1             1.1185      0.286      3.904      0.000       0.536       1.701\n",
       "x2            -0.0302      0.038     -0.789      0.435      -0.108       0.048\n",
       "x3             0.2306      0.118      1.954      0.059      -0.010       0.471\n",
       "x4             3.8495      2.686      1.433      0.161      -1.616       9.315\n",
       "x5             0.8219      0.351      2.343      0.025       0.108       1.535\n",
       "x6           -16.9465      2.620     -6.468      0.000     -22.277     -11.616\n",
       "==============================================================================\n",
       "Omnibus:                        0.842   Durbin-Watson:                   1.202\n",
       "Prob(Omnibus):                  0.656   Jarque-Bera (JB):                0.855\n",
       "Skew:                           0.174   Prob(JB):                        0.652\n",
       "Kurtosis:                       2.374   Cond. No.                     2.07e+07\n",
       "==============================================================================\n",
       "\n",
       "Warnings:\n",
       "[1] Standard Errors assume that the covariance matrix of the errors is correctly specified.\n",
       "[2] The condition number is large, 2.07e+07. This might indicate that there are\n",
       "strong multicollinearity or other numerical problems.\n",
       "\"\"\""
      ]
     },
     "execution_count": 14,
     "metadata": {},
     "output_type": "execute_result"
    }
   ],
   "source": [
    "#Full Model Summary\n",
    "jet_model.summary()"
   ]
  },
  {
   "cell_type": "code",
   "execution_count": 15,
   "metadata": {},
   "outputs": [
    {
     "data": {
      "text/html": [
       "<div>\n",
       "<style scoped>\n",
       "    .dataframe tbody tr th:only-of-type {\n",
       "        vertical-align: middle;\n",
       "    }\n",
       "\n",
       "    .dataframe tbody tr th {\n",
       "        vertical-align: top;\n",
       "    }\n",
       "\n",
       "    .dataframe thead th {\n",
       "        text-align: right;\n",
       "    }\n",
       "</style>\n",
       "<table border=\"1\" class=\"dataframe\">\n",
       "  <thead>\n",
       "    <tr style=\"text-align: right;\">\n",
       "      <th></th>\n",
       "      <th>VIF Factor</th>\n",
       "      <th>features</th>\n",
       "    </tr>\n",
       "  </thead>\n",
       "  <tbody>\n",
       "    <tr>\n",
       "      <th>0</th>\n",
       "      <td>14160.6</td>\n",
       "      <td>x1</td>\n",
       "    </tr>\n",
       "    <tr>\n",
       "      <th>1</th>\n",
       "      <td>26832.7</td>\n",
       "      <td>x2</td>\n",
       "    </tr>\n",
       "    <tr>\n",
       "      <th>2</th>\n",
       "      <td>17359.2</td>\n",
       "      <td>x3</td>\n",
       "    </tr>\n",
       "    <tr>\n",
       "      <th>3</th>\n",
       "      <td>12668.2</td>\n",
       "      <td>x4</td>\n",
       "    </tr>\n",
       "    <tr>\n",
       "      <th>4</th>\n",
       "      <td>12962.6</td>\n",
       "      <td>x5</td>\n",
       "    </tr>\n",
       "    <tr>\n",
       "      <th>5</th>\n",
       "      <td>1533.6</td>\n",
       "      <td>x6</td>\n",
       "    </tr>\n",
       "  </tbody>\n",
       "</table>\n",
       "</div>"
      ],
      "text/plain": [
       "   VIF Factor features\n",
       "0     14160.6       x1\n",
       "1     26832.7       x2\n",
       "2     17359.2       x3\n",
       "3     12668.2       x4\n",
       "4     12962.6       x5\n",
       "5      1533.6       x6"
      ]
     },
     "execution_count": 15,
     "metadata": {},
     "output_type": "execute_result"
    }
   ],
   "source": [
    "## Variance Inflation Factors\n",
    "from statsmodels.stats.outliers_influence import variance_inflation_factor\n",
    "vif = pd.DataFrame()\n",
    "vif[\"VIF Factor\"] = [variance_inflation_factor(X.values, j) for j in range(X.shape[1])]\n",
    "vif[\"features\"] = X.columns\n",
    "vif.round(1)"
   ]
  },
  {
   "cell_type": "code",
   "execution_count": 16,
   "metadata": {},
   "outputs": [
    {
     "data": {
      "text/plain": [
       "20732109.3995254"
      ]
     },
     "execution_count": 16,
     "metadata": {},
     "output_type": "execute_result"
    }
   ],
   "source": [
    "###Eigensystem Analysis\n",
    "\n",
    "# Condition Number          < 100: No serious problem\n",
    "# 100<= condition number < 1000: Moderate to strong multicollinerity\n",
    "# Condition Number       >= 1000: Severe multicollinearity\n",
    "\n",
    "#At least one condition Index >= 1000 means near linear dependency\n",
    "\n",
    "np.linalg.cond(jet_model.model.exog)"
   ]
  },
  {
   "cell_type": "code",
   "execution_count": 17,
   "metadata": {},
   "outputs": [
    {
     "data": {
      "image/png": "[encoded data removed]",
      "text/plain": [
       "<Figure size 432x180 with 1 Axes>"
      ]
     },
     "metadata": {
      "needs_background": "light"
     },
     "output_type": "display_data"
    }
   ],
   "source": [
    "#### Full Model Diagnostics\n",
    "\n",
    "#(Are all the conditions satisfied? LINE)\n",
    "#(What regressors seem important?)\n",
    "#(Any Possible Outliers?)\n",
    "#(Is there any need for transformation of response or regressor variables?)\n",
    "\n",
    "#Residual Analysis\n",
    "# Residuals Plot\n",
    "fig, ax = plt.subplots(figsize=(6,2.5))\n",
    "_ = ax.scatter(pred_val, residual)"
   ]
  },
  {
   "cell_type": "code",
   "execution_count": 18,
   "metadata": {},
   "outputs": [
    {
     "data": {
      "text/plain": [
       "0.9880947673485304"
      ]
     },
     "execution_count": 18,
     "metadata": {},
     "output_type": "execute_result"
    },
    {
     "data": {
      "image/png": "[encoded data removed]",
      "text/plain": [
       "<Figure size 432x180 with 1 Axes>"
      ]
     },
     "metadata": {
      "needs_background": "light"
     },
     "output_type": "display_data"
    }
   ],
   "source": [
    "# Probability Plot\n",
    "import scipy as sp\n",
    "fig, ax = plt.subplots(figsize=(6,2.5))\n",
    "_, (__, ___, r) = sp.stats.probplot(residual, plot=ax, fit=True)\n",
    "r**2"
   ]
  },
  {
   "cell_type": "code",
   "execution_count": 19,
   "metadata": {},
   "outputs": [],
   "source": [
    "##### Model and Variable Selection\n",
    "\n",
    "### (To be performed if the number of variables is very large)\n",
    "### (Otherwise go straight to All Possible Regression )\n",
    "\n",
    "#Stepwise Regression Model Selection\n",
    "from sklearn.feature_selection import SelectKBest\n",
    "from sklearn.feature_selection import f_regression"
   ]
  },
  {
   "cell_type": "code",
   "execution_count": 20,
   "metadata": {},
   "outputs": [
    {
     "name": "stdout",
     "output_type": "stream",
     "text": [
      "[3.779e+03 7.649e+02 2.387e+02 3.859e+03 1.202e+02 8.444e-01]\n",
      "[[ 2140 20640 30250   205]\n",
      " [ 2016 20280 30010   195]\n",
      " [ 1905 19860 29780   184]\n",
      " [ 1675 18980 29330   164]\n",
      " [ 1474 18100 28960   144]]\n"
     ]
    },
    {
     "name": "stderr",
     "output_type": "stream",
     "text": [
      "C:\\Users\\muuza\\Anaconda3\\lib\\site-packages\\sklearn\\utils\\validation.py:761: DataConversionWarning: A column-vector y was passed when a 1d array was expected. Please change the shape of y to (n_samples, ), for example using ravel().\n",
      "  y = column_or_1d(y, warn=True)\n"
     ]
    }
   ],
   "source": [
    "# Feature extraction\n",
    "test = SelectKBest(score_func = f_regression, k = 4)     # Where k is the nuber of chosen variables(features)\n",
    "fit = test.fit(X, Y)\n",
    "\n",
    "#summarize scores\n",
    "np.set_printoptions(precision = 3)\n",
    "print(fit.scores_)\n",
    "\n",
    "features = fit.transform(X)\n",
    "# Summarize selected features\n",
    "print(features[0:5, :])"
   ]
  },
  {
   "cell_type": "code",
   "execution_count": 21,
   "metadata": {},
   "outputs": [],
   "source": [
    "# Recursive Feature Elimination (RFE)\n",
    "from sklearn.feature_selection import mutual_info_regression"
   ]
  },
  {
   "cell_type": "code",
   "execution_count": 23,
   "metadata": {},
   "outputs": [
    {
     "name": "stdout",
     "output_type": "stream",
     "text": [
      "[1.276 1.076 1.042 1.064 0.824 0.094]\n",
      "[[ 2140 20640 30250   205]\n",
      " [ 2016 20280 30010   195]\n",
      " [ 1905 19860 29780   184]\n",
      " [ 1675 18980 29330   164]\n",
      " [ 1474 18100 28960   144]]\n"
     ]
    },
    {
     "name": "stderr",
     "output_type": "stream",
     "text": [
      "C:\\Users\\muuza\\Anaconda3\\lib\\site-packages\\sklearn\\utils\\validation.py:761: DataConversionWarning: A column-vector y was passed when a 1d array was expected. Please change the shape of y to (n_samples, ), for example using ravel().\n",
      "  y = column_or_1d(y, warn=True)\n",
      "C:\\Users\\muuza\\Anaconda3\\lib\\site-packages\\sklearn\\utils\\validation.py:595: DataConversionWarning: Data with input dtype int64 was converted to float64 by the scale function.\n",
      "  warnings.warn(msg, DataConversionWarning)\n",
      "C:\\Users\\muuza\\Anaconda3\\lib\\site-packages\\sklearn\\utils\\validation.py:595: DataConversionWarning: Data with input dtype int64 was converted to float64 by the scale function.\n",
      "  warnings.warn(msg, DataConversionWarning)\n"
     ]
    }
   ],
   "source": [
    "# Feature extraction\n",
    "test = SelectKBest(score_func = mutual_info_regression, k = 4)  # Where k is the number of chosen variables(features)\n",
    "fit = test.fit(X, Y)\n",
    "\n",
    "#summarize scores\n",
    "np.set_printoptions(precision = 3)\n",
    "print(fit.scores_)\n",
    "\n",
    "features = fit.transform(X)\n",
    "# Summarize selected features\n",
    "print(features[0:5, :])"
   ]
  },
  {
   "cell_type": "code",
   "execution_count": null,
   "metadata": {},
   "outputs": [],
   "source": []
  }
 ],
 "metadata": {
  "kernelspec": {
   "display_name": "Python 3",
   "language": "python",
   "name": "python3"
  },
  "language_info": {
   "codemirror_mode": {
    "name": "ipython",
    "version": 3
   },
   "file_extension": ".py",
   "mimetype": "text/x-python",
   "name": "python",
   "nbconvert_exporter": "python",
   "pygments_lexer": "ipython3",
   "version": "3.7.1"
  }
 },
 "nbformat": 4,
 "nbformat_minor": 2
}
